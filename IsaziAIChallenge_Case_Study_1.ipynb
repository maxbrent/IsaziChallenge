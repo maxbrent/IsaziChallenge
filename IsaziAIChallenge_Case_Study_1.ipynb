{
  "nbformat": 4,
  "nbformat_minor": 0,
  "metadata": {
    "colab": {
      "name": "IsaziAIChallenge - Case Study 1.ipynb",
      "provenance": [],
      "toc_visible": true
    },
    "kernelspec": {
      "name": "python3",
      "display_name": "Python 3"
    }
  },
  "cells": [
    {
      "cell_type": "markdown",
      "metadata": {
        "colab_type": "text",
        "id": "y06teoiAwdgz"
      },
      "source": [
        "Notebook done by:\n",
        "- Name: Yashveer Singh\n",
        "- email: yashveerm8@yahoo.com\n",
        "- contact: 072 217 9781\n",
        "- role: Senior Data Scientist"
      ]
    },
    {
      "cell_type": "markdown",
      "metadata": {
        "colab_type": "text",
        "id": "q3C5iMN-wdg1"
      },
      "source": [
        "# Isazi Consulting AI Challenge"
      ]
    },
    {
      "cell_type": "markdown",
      "metadata": {
        "colab_type": "text",
        "id": "krZHjhXzwdg2"
      },
      "source": [
        "## Outline\n",
        "Click on the link to be taken to the relevant section\n",
        "\n",
        "- [1. Exploratory Data Analysis](#1)\n",
        "    - [1.1. Loading and Exploring the Data](#1.1)\n",
        "      - [Load Data](#Load)\n",
        "      - [View the Dataset](#View)\n",
        "      - [Analysis](#Analyze)\n",
        "- [2. Modelling from Explored Data](#2)\n",
        "    - [2.1. Transform Data for Model](#2.1)\n",
        "    - [2.2. Create Daily Windowed Time Series Data & Model](#2.2)\n",
        "      - [2.2.1. Windowing for basic Features](#2.2.1)\n",
        "      - [2.2.2. Model Creation for basic Features](#2.2.2)\n",
        "      - [2.2.3. Model Creation for Generated Features](#2.2.3)\n",
        "      - [2.2.4. Running Predictions](#2.2.4)\n",
        "    - [2.3. Close to Perfect Model](#2.3)\n",
        "        - [Windowing for including Embeddings for Categorical Features](#window)\n",
        "- [3. Conclusion](#3)\n",
        "- [4. References](#4)"
      ]
    },
    {
      "cell_type": "markdown",
      "metadata": {
        "colab_type": "text",
        "id": "cvu9Qbaowdg3"
      },
      "source": [
        "## Overview of this Notebook"
      ]
    },
    {
      "cell_type": "markdown",
      "metadata": {
        "colab_type": "text",
        "id": "3kafRgZJwdg3"
      },
      "source": [
        "- For the ISAZI AI challenge I have decided to create a Notebook that covers an end-to-end solution rather than optimizing for model performance.\n",
        "- This notebook places much attention on the modelling section and setting up a Higly optimized data pipeline to run on a TPU and production environment.\n",
        "- I have decided to do something **unique rather than building the standard timeseries models (ARIMA, SARIMA) that you can find in Kaggle Competion Notebooks** like the Uber Sigma competitions\n",
        "- I have built a Multivariate-Multi Step Model Data Pipeline optimized to run on the TPU which I have not come across in any time series courses or the web\n"
      ]
    },
    {
      "cell_type": "markdown",
      "metadata": {
        "colab_type": "text",
        "id": "jvcI_j3Zwdg4"
      },
      "source": [
        "<a name='1'></a>\n",
        "## 1. Exploratory Data Analysis\n",
        "\n",
        "- The purpose of Exploratory Data Analysis is to gain insight into our dataset\n",
        "- In Exploratory Data Analysis we:\n",
        "    1. Examine the Distribution of our Data.\n",
        "    2. Try to find new insights to our Data that will lead to better feature generation.\n",
        "    3. This new feature generation will lead us to build a model with a higher performance score.\n",
        "    4. Remember that Data Science is not about creating fancy plots of Data and fitting data to a model, but rather to gain insight from data that will lead to new features and increase overall model performance.\n",
        "    5. In this notebook I have placed **massive emphasis** on the modelling section and optimization of the data pipeline which has been tested on a TPU for extreme performance rather than spending time on **EDA**\n",
        "    6. A kaggle link has been provided on how I would have done EDA using wavelet denoising and ARIMA/moving averages"
      ]
    },
    {
      "cell_type": "markdown",
      "metadata": {
        "colab_type": "text",
        "id": "jWbhiLAowdg5"
      },
      "source": [
        "<a name='1.1'></a>\n",
        "### 1.1 Loading and Exploring the data"
      ]
    },
    {
      "cell_type": "markdown",
      "metadata": {
        "colab_type": "text",
        "id": "TyI6as0Ewdg5"
      },
      "source": [
        "<a name='Load'></a>\n",
        "#### Load Data\n",
        "\n",
        "First load the dataset which will be used for training and testing the model built in the modelling section."
      ]
    },
    {
      "cell_type": "code",
      "metadata": {
        "colab_type": "code",
        "id": "j5591IDkwdg6",
        "colab": {
          "base_uri": "https://localhost:8080/",
          "height": 34
        },
        "outputId": "f6ab88cb-69f0-47a9-b28b-25fe9aa49adf"
      },
      "source": [
        "!git clone https://github.com/maxbrent/IsaziChallenge.git"
      ],
      "execution_count": null,
      "outputs": [
        {
          "output_type": "stream",
          "text": [
            "fatal: destination path 'IsaziChallenge' already exists and is not an empty directory.\n"
          ],
          "name": "stdout"
        }
      ]
    },
    {
      "cell_type": "code",
      "metadata": {
        "colab_type": "code",
        "id": "Rn9RWa-VwdhC",
        "colab": {}
      },
      "source": [
        "import os\n",
        "import sys\n",
        "import numpy as np\n",
        "import pandas as pd\n",
        "import tensorflow as tf\n",
        "import matplotlib.pyplot as plt\n",
        "from sklearn.preprocessing import LabelEncoder\n",
        "from IPython.display import Image"
      ],
      "execution_count": null,
      "outputs": []
    },
    {
      "cell_type": "code",
      "metadata": {
        "colab_type": "code",
        "id": "CsX5_-jeXy7C",
        "colab": {}
      },
      "source": [
        "pd.set_option(\"display.max_rows\", None)"
      ],
      "execution_count": null,
      "outputs": []
    },
    {
      "cell_type": "code",
      "metadata": {
        "colab_type": "code",
        "id": "SIw338AiwdhF",
        "colab": {
          "base_uri": "https://localhost:8080/",
          "height": 34
        },
        "outputId": "0dff9ecb-b807-4b21-e90b-9d020343dd76"
      },
      "source": [
        "print(os.listdir(\"/content/IsaziChallenge\"))"
      ],
      "execution_count": null,
      "outputs": [
        {
          "output_type": "stream",
          "text": [
            "['DS - case study 1 - Sales task.pdf', 'models', 'reports', 'data', 'IsaziAIChallenge_Case_Study_1.ipynb', 'README.md', '.git']\n"
          ],
          "name": "stdout"
        }
      ]
    },
    {
      "cell_type": "code",
      "metadata": {
        "colab_type": "code",
        "id": "g28OcgsMwdhI",
        "colab": {}
      },
      "source": [
        "sys.path.insert(0, '/content/IsaziChallenge/')"
      ],
      "execution_count": null,
      "outputs": []
    },
    {
      "cell_type": "code",
      "metadata": {
        "colab_type": "code",
        "id": "csvkzDTYwdhK",
        "colab": {}
      },
      "source": [
        "# from utils import load_data\n",
        "\n",
        "data = pd.read_csv('/content/IsaziChallenge/data/DS - case study 1 - add material - sales_volumes.csv', index_col=0)"
      ],
      "execution_count": null,
      "outputs": []
    },
    {
      "cell_type": "code",
      "metadata": {
        "colab_type": "code",
        "id": "6856T3WYOn-F",
        "colab": {
          "base_uri": "https://localhost:8080/",
          "height": 195
        },
        "outputId": "84abc6a7-0c1a-438c-c836-f012c21706e3"
      },
      "source": [
        "data.head()"
      ],
      "execution_count": null,
      "outputs": [
        {
          "output_type": "execute_result",
          "data": {
            "text/html": [
              "<div>\n",
              "<style scoped>\n",
              "    .dataframe tbody tr th:only-of-type {\n",
              "        vertical-align: middle;\n",
              "    }\n",
              "\n",
              "    .dataframe tbody tr th {\n",
              "        vertical-align: top;\n",
              "    }\n",
              "\n",
              "    .dataframe thead th {\n",
              "        text-align: right;\n",
              "    }\n",
              "</style>\n",
              "<table border=\"1\" class=\"dataframe\">\n",
              "  <thead>\n",
              "    <tr style=\"text-align: right;\">\n",
              "      <th></th>\n",
              "      <th>InvoiceID</th>\n",
              "      <th>ProductCode</th>\n",
              "      <th>Description</th>\n",
              "      <th>Volume</th>\n",
              "      <th>Date</th>\n",
              "      <th>UnitPrice</th>\n",
              "    </tr>\n",
              "  </thead>\n",
              "  <tbody>\n",
              "    <tr>\n",
              "      <th>42481</th>\n",
              "      <td>539993</td>\n",
              "      <td>22386</td>\n",
              "      <td>JUMBO BAG PINK POLKADOT</td>\n",
              "      <td>29</td>\n",
              "      <td>2019-01-04 10:00:00</td>\n",
              "      <td>31.20</td>\n",
              "    </tr>\n",
              "    <tr>\n",
              "      <th>42482</th>\n",
              "      <td>539993</td>\n",
              "      <td>21499</td>\n",
              "      <td>BLUE POLKADOT WRAP</td>\n",
              "      <td>74</td>\n",
              "      <td>2019-01-04 10:00:00</td>\n",
              "      <td>6.72</td>\n",
              "    </tr>\n",
              "    <tr>\n",
              "      <th>42483</th>\n",
              "      <td>539993</td>\n",
              "      <td>21498</td>\n",
              "      <td>RED RETROSPOT WRAP</td>\n",
              "      <td>74</td>\n",
              "      <td>2019-01-04 10:00:00</td>\n",
              "      <td>6.72</td>\n",
              "    </tr>\n",
              "    <tr>\n",
              "      <th>42484</th>\n",
              "      <td>539993</td>\n",
              "      <td>22379</td>\n",
              "      <td>RECYCLING BAG RETROSPOT</td>\n",
              "      <td>14</td>\n",
              "      <td>2019-01-04 10:00:00</td>\n",
              "      <td>33.60</td>\n",
              "    </tr>\n",
              "    <tr>\n",
              "      <th>42485</th>\n",
              "      <td>539993</td>\n",
              "      <td>20718</td>\n",
              "      <td>RED RETROSPOT SHOPPER BAG</td>\n",
              "      <td>29</td>\n",
              "      <td>2019-01-04 10:00:00</td>\n",
              "      <td>20.00</td>\n",
              "    </tr>\n",
              "  </tbody>\n",
              "</table>\n",
              "</div>"
            ],
            "text/plain": [
              "      InvoiceID ProductCode  ...                 Date  UnitPrice\n",
              "42481    539993       22386  ...  2019-01-04 10:00:00      31.20\n",
              "42482    539993       21499  ...  2019-01-04 10:00:00       6.72\n",
              "42483    539993       21498  ...  2019-01-04 10:00:00       6.72\n",
              "42484    539993       22379  ...  2019-01-04 10:00:00      33.60\n",
              "42485    539993       20718  ...  2019-01-04 10:00:00      20.00\n",
              "\n",
              "[5 rows x 6 columns]"
            ]
          },
          "metadata": {
            "tags": []
          },
          "execution_count": 108
        }
      ]
    },
    {
      "cell_type": "code",
      "metadata": {
        "colab_type": "code",
        "id": "E35ryGPS1E_V",
        "colab": {
          "base_uri": "https://localhost:8080/",
          "height": 34
        },
        "outputId": "b249f78c-35fd-41bc-d942-47f4b0d64237"
      },
      "source": [
        "len(data)"
      ],
      "execution_count": null,
      "outputs": [
        {
          "output_type": "execute_result",
          "data": {
            "text/plain": [
              "203422"
            ]
          },
          "metadata": {
            "tags": []
          },
          "execution_count": 109
        }
      ]
    },
    {
      "cell_type": "code",
      "metadata": {
        "colab_type": "code",
        "id": "0yUcuPhyO8Ju",
        "colab": {
          "base_uri": "https://localhost:8080/",
          "height": 134
        },
        "outputId": "f60876d3-6968-4d7c-a9e0-fb95df03060c"
      },
      "source": [
        "data.dtypes"
      ],
      "execution_count": null,
      "outputs": [
        {
          "output_type": "execute_result",
          "data": {
            "text/plain": [
              "InvoiceID       object\n",
              "ProductCode     object\n",
              "Description     object\n",
              "Volume           int64\n",
              "Date            object\n",
              "UnitPrice      float64\n",
              "dtype: object"
            ]
          },
          "metadata": {
            "tags": []
          },
          "execution_count": 110
        }
      ]
    },
    {
      "cell_type": "code",
      "metadata": {
        "colab_type": "code",
        "id": "gu-5KSZPWlqQ",
        "colab": {
          "base_uri": "https://localhost:8080/",
          "height": 134
        },
        "outputId": "a4066456-cba8-4c47-8321-89df310c5aa4"
      },
      "source": [
        "data.nunique()"
      ],
      "execution_count": null,
      "outputs": [
        {
          "output_type": "execute_result",
          "data": {
            "text/plain": [
              "InvoiceID      10770\n",
              "ProductCode     3531\n",
              "Description     3484\n",
              "Volume           455\n",
              "Date            9764\n",
              "UnitPrice        966\n",
              "dtype: int64"
            ]
          },
          "metadata": {
            "tags": []
          },
          "execution_count": 111
        }
      ]
    },
    {
      "cell_type": "code",
      "metadata": {
        "colab_type": "code",
        "id": "zIF35oZ07iNR",
        "colab": {}
      },
      "source": [
        "def convert_data_types(converted):\n",
        "  \"\"\"\n",
        "    Converts data types to the relevant type\n",
        "  \n",
        "    Args:\n",
        "      converted (dataframe): numpy array with data values.\n",
        "\n",
        "    Returns:\n",
        "      converted (dataframe): standardized and normalized numerical variables\n",
        "  \"\"\"\n",
        "  converted['Date'] = pd.to_datetime(converted['Date'])\n",
        "  converted['InvoiceID'] = converted['InvoiceID'].astype('category') \n",
        "  converted['ProductCode'] = converted['ProductCode'].astype('category') \n",
        "  converted['Description'] = converted['Description'].astype('category') \n",
        "  return converted"
      ],
      "execution_count": null,
      "outputs": []
    },
    {
      "cell_type": "code",
      "metadata": {
        "colab_type": "code",
        "id": "aIx07TJ6dRsk",
        "colab": {}
      },
      "source": [
        "data = convert_data_types(data)"
      ],
      "execution_count": null,
      "outputs": []
    },
    {
      "cell_type": "markdown",
      "metadata": {
        "colab_type": "text",
        "id": "qsVd7u1MwdhP"
      },
      "source": [
        "<a name='View'></a>\n",
        "#### View the Dataset\n",
        "\n",
        "The features (`data`) include the following fields:\n",
        "* InvoiceID: (Categorical)\n",
        "* ProductCode: (Categorical)\n",
        "* Description: (Categorical)\n",
        "* Volume: (Numeric) \n",
        "* UnitPrice: (Numeric) "
      ]
    },
    {
      "cell_type": "markdown",
      "metadata": {
        "colab_type": "text",
        "id": "8FfES_ip06jK"
      },
      "source": [
        "<a name='Analyze'></a>\n",
        "#### Analysis\n",
        "From the analysis above we can deduce:\n",
        "- The data is a reasonable size to create a **windowed** dataset at various time points\n",
        "- We have categorical & numerical variables\n",
        "- There is **high cardinality** in each categorical variable\n",
        "- The **Description** feature has multiple word correlations in which we can learn **Embeddings**\n",
        "- We need to **scale** the numerical variables to remove outliers and data skewness"
      ]
    },
    {
      "cell_type": "markdown",
      "metadata": {
        "colab_type": "text",
        "id": "7_ahBs9jwdhP"
      },
      "source": [
        "`data` is the Pandas DataFrames that holds the data for 203 , 422 records. "
      ]
    },
    {
      "cell_type": "markdown",
      "metadata": {
        "colab_type": "text",
        "id": "F8E4KZj66BBc"
      },
      "source": [
        "<a name='2'></a>\n",
        "## 2. Modelling\n",
        "1. In this section we will create a Tensorflow **Multivariate Multi-Step Model**\n",
        "2. We will train a model to predict the volume with **basic features**\n",
        "3. We will train a model to predict the volume with **generated features** to evaluate change in performance\n",
        "4. **Discussion** for how to build the Ideal Model for massive **improvement** unsing LSTM Embedding Encoder as the 1st Model and an LSTM Multivariate Multi-Step Model as the second model\n",
        "5. Instead of focusing on **Moving Average models (SARIMA, ARIMA)** which we can easily find on Kaggle competitions, I have chosen to do something unique which I have not come across on the internet i.e. build a **Multivariate Multistep Model** for High Dimensional Data\n",
        "\n",
        "**NB: My aim is to build a quick end-to-end solution rather than focusing on model performance given time constraints. My data pipeline code is Higly optimized to run on a TPU which I have tested on the Forex Markets with High Dimensional data**"
      ]
    },
    {
      "cell_type": "markdown",
      "metadata": {
        "colab_type": "text",
        "id": "zArcIeh5xKQD"
      },
      "source": [
        "<a name='2.1'></a>\n",
        "### 2.1 Transform Data for Model"
      ]
    },
    {
      "cell_type": "markdown",
      "metadata": {
        "colab_type": "text",
        "id": "VfuGPVOvBcpL"
      },
      "source": [
        "Copying Data to new variable and indexing datetime column\n",
        "- Dropping Description Column because going to create separate embedding model"
      ]
    },
    {
      "cell_type": "code",
      "metadata": {
        "colab_type": "code",
        "id": "28ZNzRRG53WI",
        "colab": {}
      },
      "source": [
        "features = data.copy()\n",
        "featuress = data.copy()\n",
        "\n",
        "def drop_col(df, col_list):\n",
        "  # df.set_index('Date',inplace=True)\n",
        "  df.drop(col_list, axis=1, inplace=True)\n",
        "  return df"
      ],
      "execution_count": null,
      "outputs": []
    },
    {
      "cell_type": "code",
      "metadata": {
        "colab_type": "code",
        "id": "7OHBCrpkf0m2",
        "colab": {}
      },
      "source": [
        "features = drop_col(features, col_list=['Description'])\n",
        "featuress = drop_col(featuress, col_list=['Description'])"
      ],
      "execution_count": null,
      "outputs": []
    },
    {
      "cell_type": "code",
      "metadata": {
        "colab_type": "code",
        "id": "YdKwFvpAhPAf",
        "colab": {
          "base_uri": "https://localhost:8080/",
          "height": 195
        },
        "outputId": "3580175e-0337-42ca-a9b3-d901233d9867"
      },
      "source": [
        "features.head()"
      ],
      "execution_count": null,
      "outputs": [
        {
          "output_type": "execute_result",
          "data": {
            "text/html": [
              "<div>\n",
              "<style scoped>\n",
              "    .dataframe tbody tr th:only-of-type {\n",
              "        vertical-align: middle;\n",
              "    }\n",
              "\n",
              "    .dataframe tbody tr th {\n",
              "        vertical-align: top;\n",
              "    }\n",
              "\n",
              "    .dataframe thead th {\n",
              "        text-align: right;\n",
              "    }\n",
              "</style>\n",
              "<table border=\"1\" class=\"dataframe\">\n",
              "  <thead>\n",
              "    <tr style=\"text-align: right;\">\n",
              "      <th></th>\n",
              "      <th>InvoiceID</th>\n",
              "      <th>ProductCode</th>\n",
              "      <th>Volume</th>\n",
              "      <th>Date</th>\n",
              "      <th>UnitPrice</th>\n",
              "    </tr>\n",
              "  </thead>\n",
              "  <tbody>\n",
              "    <tr>\n",
              "      <th>42481</th>\n",
              "      <td>539993</td>\n",
              "      <td>22386</td>\n",
              "      <td>29</td>\n",
              "      <td>2019-01-04 10:00:00</td>\n",
              "      <td>31.20</td>\n",
              "    </tr>\n",
              "    <tr>\n",
              "      <th>42482</th>\n",
              "      <td>539993</td>\n",
              "      <td>21499</td>\n",
              "      <td>74</td>\n",
              "      <td>2019-01-04 10:00:00</td>\n",
              "      <td>6.72</td>\n",
              "    </tr>\n",
              "    <tr>\n",
              "      <th>42483</th>\n",
              "      <td>539993</td>\n",
              "      <td>21498</td>\n",
              "      <td>74</td>\n",
              "      <td>2019-01-04 10:00:00</td>\n",
              "      <td>6.72</td>\n",
              "    </tr>\n",
              "    <tr>\n",
              "      <th>42484</th>\n",
              "      <td>539993</td>\n",
              "      <td>22379</td>\n",
              "      <td>14</td>\n",
              "      <td>2019-01-04 10:00:00</td>\n",
              "      <td>33.60</td>\n",
              "    </tr>\n",
              "    <tr>\n",
              "      <th>42485</th>\n",
              "      <td>539993</td>\n",
              "      <td>20718</td>\n",
              "      <td>29</td>\n",
              "      <td>2019-01-04 10:00:00</td>\n",
              "      <td>20.00</td>\n",
              "    </tr>\n",
              "  </tbody>\n",
              "</table>\n",
              "</div>"
            ],
            "text/plain": [
              "      InvoiceID ProductCode  Volume                Date  UnitPrice\n",
              "42481    539993       22386      29 2019-01-04 10:00:00      31.20\n",
              "42482    539993       21499      74 2019-01-04 10:00:00       6.72\n",
              "42483    539993       21498      74 2019-01-04 10:00:00       6.72\n",
              "42484    539993       22379      14 2019-01-04 10:00:00      33.60\n",
              "42485    539993       20718      29 2019-01-04 10:00:00      20.00"
            ]
          },
          "metadata": {
            "tags": []
          },
          "execution_count": 116
        }
      ]
    },
    {
      "cell_type": "code",
      "metadata": {
        "colab_type": "code",
        "id": "uoRrD5XXhm4O",
        "colab": {}
      },
      "source": [
        "def basic_transform(ft): # When doing mean, the volume becomes positive, so have to use negative volume to identify discount and sum discounts for day as feature\n",
        "  \"\"\"\n",
        "    Groups and averages dataframe by day. \n",
        "    Standardizes numerical feature values of data\n",
        "  \n",
        "    Args:\n",
        "      ft (dataframe): dataframe with data values.\n",
        "\n",
        "    Returns:\n",
        "      ft_npy (numpy array): standardized and normalized numerical variables\n",
        "  \"\"\"\n",
        "  ft = drop_col(ft, col_list=['InvoiceID', 'ProductCode'])\n",
        "  ft = ft.groupby(pd.Grouper(key='Date',freq='D')).mean()\n",
        "  ft = ft.fillna(0)\n",
        "  ft = ft.values\n",
        "\n",
        "  data_mean = ft[:, :2].mean(axis=0) # Not selecting the categorical features\n",
        "  data_std = ft[:, :2].std(axis=0)\n",
        "\n",
        "  ft_npy = (ft[:, :2]-data_mean)/data_std \n",
        "\n",
        "  return ft_npy"
      ],
      "execution_count": null,
      "outputs": []
    },
    {
      "cell_type": "code",
      "metadata": {
        "colab_type": "code",
        "id": "rVKLvPihGv09",
        "colab": {}
      },
      "source": [
        "def generate_ft_transform(ft): # Takes into consideration discounts and returns\n",
        "  \"\"\"\n",
        "    Groups and averages dataframe by day. \n",
        "    Standardizes numerical feature values of data\n",
        "  \n",
        "    Args:\n",
        "      ft (dataframe): numpy array with data values.\n",
        "\n",
        "    Returns:\n",
        "      ft_npy (numpy array): standardized and normalized numerical variables\n",
        "  \"\"\"\n",
        "  ft = drop_col(ft, col_list=['InvoiceID', 'ProductCode'])\n",
        "  ft['IsReturns'] = ft['Volume'].apply(lambda x: 1 if x<0 else 0)\n",
        "  ft['IsDiscount'] = ft['UnitPrice'].apply(lambda x: 1 if x==0 else 0)\n",
        "  ft['IsWeekDay'] = ft.apply(lambda x: x[\"Date\"].weekday(),axis=1)\n",
        "  ft['IsWeekDay'] = (ft['IsWeekDay'] < 5).astype(int)\n",
        "  # print(ft[((ft.Date.dt.month == 4)&(ft.Date.dt.year == 2019)&(ft.Date.dt.day == 1))&(ft.IsReturns==1)])\n",
        "  # print(ft.dtypes)\n",
        "  ft = ft.groupby(pd.Grouper(key='Date',freq='D')).agg(\n",
        "      VolumeMean = pd.NamedAgg(column='Volume', aggfunc=np.mean),\n",
        "      UnitPriceMean = pd.NamedAgg(column='UnitPrice', aggfunc=np.mean),\n",
        "      TotReturns = pd.NamedAgg(column='IsReturns', aggfunc=np.sum),\n",
        "      TotDiscount = pd.NamedAgg(column='IsDiscount', aggfunc=np.sum),\n",
        "      TotWeekDays = pd.NamedAgg(column='IsWeekDay', aggfunc=np.sum)\n",
        "  )\n",
        "  ft = ft.fillna(0)\n",
        "  ft = ft.values\n",
        "\n",
        "  global mean_data \n",
        "  mean_data = ft[:, 0].mean(axis=0) # Used for converting predictions in the end\n",
        "  global std_data \n",
        "  std_data = ft[:, 0].std(axis=0)\n",
        "\n",
        "  global data_mean \n",
        "  data_mean = ft.mean(axis=0) # Not selecting the categorical features\n",
        "  global data_std \n",
        "  data_std = ft.std(axis=0)\n",
        "\n",
        "  ft_npy = (ft-data_mean)/data_std \n",
        "\n",
        "  return ft_npy"
      ],
      "execution_count": null,
      "outputs": []
    },
    {
      "cell_type": "code",
      "metadata": {
        "colab_type": "code",
        "id": "bIYwAya8ONmJ",
        "colab": {}
      },
      "source": [
        "def transform_num_data(npy):\n",
        "  \"\"\"\n",
        "    Standardizes and normalizes our numerical data in \n",
        "    our numpy array to remove the presence of outliers\n",
        "  \n",
        "    Args:\n",
        "      npy (numpy array): numpy array with data values.\n",
        "\n",
        "    Returns:\n",
        "      npy (numpy array): standardized and normalized numerical variables\n",
        "  \"\"\"\n",
        "  data_mean = npy[:, 3].mean(axis=0)                   # Selecting UnitPrice features\n",
        "  data_std = npy[:, 3].std(axis=0)\n",
        "\n",
        "  transform_unitP = (npy[:, 3] - data_mean) / data_std # We are standardizing the UnitPrice feature\n",
        "  transform_volume = np.tanh(npy[:, 2])                # Normalize our Volume Data\n",
        " \n",
        "  npy = np.hstack((np.reshape(npy[:, 0], (-1, 1)), np.reshape(npy[:, 1], (-1, 1)), np.reshape(transform_volume, (-1, 1)), np.reshape(transform_unitP, (-1, 1))))\n",
        "  return npy"
      ],
      "execution_count": null,
      "outputs": []
    },
    {
      "cell_type": "code",
      "metadata": {
        "colab_type": "code",
        "id": "04yzHe3v53cT",
        "colab": {}
      },
      "source": [
        "def transform_cat_data(ft):\n",
        "  \"\"\"\n",
        "    Transforms data into label encoded values to use \n",
        "    for creating embeddings\n",
        "  \n",
        "    Args:\n",
        "      ft (dataframe): unnormalized training data.\n",
        "\n",
        "    Returns:\n",
        "      ft (dateframe): label encoded categorical variables\n",
        "  \"\"\"\n",
        "  encoder = LabelEncoder()\n",
        "  ft['InvoiceID'] = encoder.fit_transform(ft['InvoiceID'])\n",
        "  ft['ProductCode'] = encoder.fit_transform(ft['ProductCode'])\n",
        "  # ft['Description'] = encoder.fit_transform(ft['Description']) Need to create a separate encoding embedding model for Description\n",
        "  return ft"
      ],
      "execution_count": null,
      "outputs": []
    },
    {
      "cell_type": "code",
      "metadata": {
        "colab_type": "code",
        "id": "jT-CbP2ojlGD",
        "colab": {}
      },
      "source": [
        "dataset = basic_transform(features)"
      ],
      "execution_count": null,
      "outputs": []
    },
    {
      "cell_type": "code",
      "metadata": {
        "colab_type": "code",
        "id": "qVma76ePICMV",
        "colab": {}
      },
      "source": [
        "datasett = generate_ft_transform(featuress)"
      ],
      "execution_count": null,
      "outputs": []
    },
    {
      "cell_type": "code",
      "metadata": {
        "colab_type": "code",
        "id": "Mv3ZB4Nf53ZT",
        "colab": {
          "base_uri": "https://localhost:8080/",
          "height": 50
        },
        "outputId": "92d36b9c-33e6-4781-aaf3-64180e35d033"
      },
      "source": [
        "print(dataset.shape)\n",
        "print(datasett.shape)"
      ],
      "execution_count": null,
      "outputs": [
        {
          "output_type": "stream",
          "text": [
            "(178, 2)\n",
            "(178, 5)\n"
          ],
          "name": "stdout"
        }
      ]
    },
    {
      "cell_type": "code",
      "metadata": {
        "colab_type": "code",
        "id": "zuGI3PJTHKwi",
        "colab": {
          "base_uri": "https://localhost:8080/",
          "height": 101
        },
        "outputId": "10bc4b05-796c-478a-fe85-516decf4cf41"
      },
      "source": [
        "# Print 1st 5 values of numpy array to compare to iterator\n",
        "print(datasett[:5, :])"
      ],
      "execution_count": null,
      "outputs": [
        {
          "output_type": "stream",
          "text": [
            "[[-0.26608458 -0.07434636 -0.0441942   0.5995467   0.61714245]\n",
            " [ 0.51515506  4.46338948  2.20339654 -0.22966319 -0.94672834]\n",
            " [ 0.85494172  0.09084604  1.64149885 -0.06382121 -0.94672834]\n",
            " [ 0.23400666 -0.16599746  0.1286974  -0.56134715  1.42285291]\n",
            " [-1.55193478 -0.95399623 -1.08154377 -0.56134715 -0.94672834]]\n"
          ],
          "name": "stdout"
        }
      ]
    },
    {
      "cell_type": "markdown",
      "metadata": {
        "colab_type": "text",
        "id": "-VT3lTdCxnUD"
      },
      "source": [
        "<a name='2.2'></a>\n",
        "### 2.2 Create Daily Windowed Time Series Data & Model"
      ]
    },
    {
      "cell_type": "markdown",
      "metadata": {
        "colab_type": "text",
        "id": "dWyE-PUo2DFG"
      },
      "source": [
        "<a name='2.2.1'></a>\n",
        "#### 2.2.1 Windowing for basic Features"
      ]
    },
    {
      "cell_type": "code",
      "metadata": {
        "id": "7g9IDM68BYOV",
        "colab_type": "code",
        "colab": {}
      },
      "source": [
        "tf.random.set_seed(0)"
      ],
      "execution_count": null,
      "outputs": []
    },
    {
      "cell_type": "code",
      "metadata": {
        "colab_type": "code",
        "id": "P4Fj6_5J2Ugw",
        "colab": {}
      },
      "source": [
        "# Window for Training Set. Data Pipeline optimized to run on TPU\n",
        "def windowed_dataset_train(series, window_size, batch_size, shuffle_buffer, step_forecast):\n",
        "    \"\"\"\n",
        "    Standardizes and normalizes our numerical data in \n",
        "    our numpy array to remove the presence of outliers\n",
        "  \n",
        "    Args:\n",
        "      series (numpy array): numpy array with data values.\n",
        "      window_size (integer): value for sliding window size.\n",
        "      batch_size (integer): value to batch time windows.\n",
        "      shuffle_buffer (integer): value to shuffle data from buffer.\n",
        "      step_forecast (integer): value to forecast how many days ahead.\n",
        "\n",
        "    Returns:\n",
        "      ds (tensor): tensorflow tensor with sliding batched window and labels forecast\n",
        "    \"\"\"\n",
        "    ds = tf.data.Dataset.from_tensor_slices(series) \n",
        "    ds = ds.window(window_size + step_forecast, shift=1, drop_remainder=True)\n",
        "    ds = ds.flat_map(lambda w: w.batch(window_size + step_forecast)).cache()       \n",
        "    ds = ds.map(lambda w: (w[:-step_forecast], [w[i:i+step_forecast, 0]  for i in range(1, window_size+1)]), num_parallel_calls=tf.data.experimental.AUTOTUNE)\n",
        "    ds = ds.shuffle(shuffle_buffer)  \n",
        "    ds = ds.batch(batch_size).prefetch(tf.data.experimental.AUTOTUNE)\n",
        "    return ds"
      ],
      "execution_count": null,
      "outputs": []
    },
    {
      "cell_type": "code",
      "metadata": {
        "colab_type": "code",
        "id": "jFXr16PyEUTP",
        "colab": {}
      },
      "source": [
        "# Window for Validation Set\n",
        "def windowed_dataset_valid(series, window_size, batch_size, shuffle_buffer, step_forecast):\n",
        "    \"\"\"\n",
        "    Standardizes and normalizes our numerical data in \n",
        "    our numpy array to remove the presence of outliers\n",
        "  \n",
        "    Args:\n",
        "      series (numpy array): numpy array with data values.\n",
        "      window_size (integer): value for sliding window size.\n",
        "      batch_size (integer): value to batch time windows.\n",
        "      shuffle_buffer (integer): value to shuffle data from buffer.\n",
        "      step_forecast (integer): value to forecast how many days ahead.\n",
        "\n",
        "    Returns:\n",
        "      ds (tensor): tensorflow tensor with sliding batched window and labels forecast\n",
        "    \"\"\"\n",
        "    ds = tf.data.Dataset.from_tensor_slices(series) \n",
        "    ds = ds.window(window_size + step_forecast, shift=1, drop_remainder=True)\n",
        "    ds = ds.flat_map(lambda w: w.batch(window_size + step_forecast)).cache()       \n",
        "    ds = ds.map(lambda w: (w[:-step_forecast], [w[i:i+step_forecast, 0]  for i in range(1, window_size+1)]), num_parallel_calls=tf.data.experimental.AUTOTUNE)\n",
        "    ds = ds.batch(batch_size).prefetch(tf.data.experimental.AUTOTUNE)\n",
        "    return ds"
      ],
      "execution_count": null,
      "outputs": []
    },
    {
      "cell_type": "code",
      "metadata": {
        "colab_type": "code",
        "id": "kj2KRkWC2Ujw",
        "colab": {}
      },
      "source": [
        "preview_set = windowed_dataset_train(dataset, 10, 1, 60, 2) # 2 timesteps ahead with sliding window contain 10 samples, remove shuffle to preview window\n",
        "train_set = windowed_dataset_train(dataset[:124, :], 44, 2, 60, 7)\n",
        "valid_set = windowed_dataset_valid(dataset[124:178, :], 44, 2, 60, 7)\n",
        "# train_set = windowed_dataset_train(dataset[:700000, :], 64, 1024, 1000, 10) # 100 timesteps ahead with 1st 700 000 of data\n",
        "# valid_set = windowed_dataset_valid(dataset[700001:800000, :], 64, 1024, 1000, 10) # 100 timesteps ahead with last 260 000 of data\n",
        "# test_set = windowed_dataset_test(dataset[800001:900000, :], 64, 1024, 1000, 10)"
      ],
      "execution_count": null,
      "outputs": []
    },
    {
      "cell_type": "markdown",
      "metadata": {
        "colab_type": "text",
        "id": "dLM_en0V46dA"
      },
      "source": [
        "**Preview Sliding Windows**\n",
        "- As you can see in the code cell below, we have a sample of 2 features in a daily sliding window of 10 days shown in the 1st array\n",
        "- In the 2nd array we have a 2 step forecast\n",
        "- The data that is previewed below seems like multiple labels in the 2nd array, however since we are getting the LSTM to predict a 2 step forecast at each timestep, we will have a 2-step forecast at each of the 10 steps in a slinding window of 10 steps\n",
        "- The **actual windows** that will be **generated** will be a 62 day window, with a 31 day multi-step forecast at each timestep rather than the last timestep"
      ]
    },
    {
      "cell_type": "code",
      "metadata": {
        "colab_type": "code",
        "id": "5fDsd21A2Uqu",
        "colab": {
          "base_uri": "https://localhost:8080/",
          "height": 370
        },
        "outputId": "7830e1d1-64c2-4dcf-8b82-e194f30feaed"
      },
      "source": [
        "iterator = iter(preview)\n",
        "print(next(iterator))"
      ],
      "execution_count": null,
      "outputs": [
        {
          "output_type": "stream",
          "text": [
            "(<tf.Tensor: shape=(1, 10, 2), dtype=float64, numpy=\n",
            "array([[[-2.66084583e-01, -7.43463584e-02],\n",
            "        [ 5.15155062e-01,  4.46338948e+00],\n",
            "        [ 8.54941721e-01,  9.08460432e-02],\n",
            "        [ 2.34006664e-01, -1.65997464e-01],\n",
            "        [-1.55193478e+00, -9.53996228e-01],\n",
            "        [-1.41201471e-01, -1.90018046e-01],\n",
            "        [-6.98642041e-01, -2.86152274e-04],\n",
            "        [ 2.41860325e+00, -8.88144222e-02],\n",
            "        [-4.88831291e-01,  5.75793395e-02],\n",
            "        [-2.06740953e-01, -9.97170061e-03]]])>, <tf.Tensor: shape=(1, 10, 2), dtype=float64, numpy=\n",
            "array([[[ 0.51515506,  0.85494172],\n",
            "        [ 0.85494172,  0.23400666],\n",
            "        [ 0.23400666, -1.55193478],\n",
            "        [-1.55193478, -0.14120147],\n",
            "        [-0.14120147, -0.69864204],\n",
            "        [-0.69864204,  2.41860325],\n",
            "        [ 2.41860325, -0.48883129],\n",
            "        [-0.48883129, -0.20674095],\n",
            "        [-0.20674095,  1.46673517],\n",
            "        [ 1.46673517, -1.55193478]]])>)\n"
          ],
          "name": "stdout"
        }
      ]
    },
    {
      "cell_type": "markdown",
      "metadata": {
        "colab_type": "text",
        "id": "BN-J92618Ban"
      },
      "source": [
        "<a name='2.2.2'></a>\n",
        "#### 2.2.2 Model Creation for basic features\n",
        "- Usually LSTM models are created just to predict values at the last time step.\n",
        "- There is a major flaw with this, because it prevents the gradients from flowing through each timestep during back propagation causing instability.\n",
        "- I will create an LSTM model to do a multi-step forecast at each timestep rather than just the last timestep"
      ]
    },
    {
      "cell_type": "code",
      "metadata": {
        "colab_type": "code",
        "id": "tS6I-jEl2U5z",
        "colab": {}
      },
      "source": [
        "model = tf.keras.models.Sequential([\n",
        "    # tf.keras.layers.Conv1D(filters=8, kernel_size=5,\n",
        "    #                     strides=1, padding=\"causal\",\n",
        "    #                     activation=\"relu\",\n",
        "    #                     input_shape=[None, 2]),\n",
        "    tf.keras.layers.LSTM(7, return_sequences=True, dropout=0.5, recurrent_dropout=0.5, input_shape=[None, 2]),\n",
        "    # tf.keras.layers.Dense(31, activation=\"relu\"), # is the same as applying a TimeDistributed Layer, the only reason we use TimeDistributed is for clarity to say that it is \n",
        "    # tf.keras.layers.Dense(31),\n",
        "    \n",
        "  ])\n",
        "lr_schedule = tf.keras.callbacks.LearningRateScheduler(lambda epoch: 1e-8 * 10**(epoch / 20))\n",
        "optimizer = tf.keras.optimizers.SGD(lr=1e-8, momentum=0.9)\n",
        "model.compile(loss=tf.keras.losses.Huber(), optimizer=optimizer, metrics=[\"mae\"])"
      ],
      "execution_count": null,
      "outputs": []
    },
    {
      "cell_type": "code",
      "metadata": {
        "colab_type": "code",
        "id": "igAgX6xx__07",
        "colab": {
          "base_uri": "https://localhost:8080/",
          "height": 185
        },
        "outputId": "bc1e84d9-7daf-480d-aa3b-2a2b13821ec7"
      },
      "source": [
        "model.summary()"
      ],
      "execution_count": null,
      "outputs": [
        {
          "output_type": "stream",
          "text": [
            "Model: \"sequential_4\"\n",
            "_________________________________________________________________\n",
            "Layer (type)                 Output Shape              Param #   \n",
            "=================================================================\n",
            "lstm_4 (LSTM)                (None, None, 7)           280       \n",
            "=================================================================\n",
            "Total params: 280\n",
            "Trainable params: 280\n",
            "Non-trainable params: 0\n",
            "_________________________________________________________________\n"
          ],
          "name": "stdout"
        }
      ]
    },
    {
      "cell_type": "code",
      "metadata": {
        "colab_type": "code",
        "id": "0Tf8kHlVAUWn",
        "colab": {
          "base_uri": "https://localhost:8080/",
          "height": 353
        },
        "outputId": "068f77c7-9cc8-42e9-82ad-1a65f0c49429"
      },
      "source": [
        "history = model.fit(train_set, epochs=10, validation_data=valid_set, callbacks=[lr_schedule])"
      ],
      "execution_count": null,
      "outputs": [
        {
          "output_type": "stream",
          "text": [
            "Epoch 1/10\n",
            "37/37 [==============================] - 2s 46ms/step - loss: 0.3876 - mae: 0.7349 - val_loss: 0.4760 - val_mae: 0.8022\n",
            "Epoch 2/10\n",
            "37/37 [==============================] - 1s 37ms/step - loss: 0.3877 - mae: 0.7351 - val_loss: 0.4760 - val_mae: 0.8022\n",
            "Epoch 3/10\n",
            "37/37 [==============================] - 1s 36ms/step - loss: 0.3878 - mae: 0.7353 - val_loss: 0.4760 - val_mae: 0.8022\n",
            "Epoch 4/10\n",
            "37/37 [==============================] - 1s 33ms/step - loss: 0.3879 - mae: 0.7353 - val_loss: 0.4760 - val_mae: 0.8022\n",
            "Epoch 5/10\n",
            "37/37 [==============================] - 1s 33ms/step - loss: 0.3878 - mae: 0.7353 - val_loss: 0.4760 - val_mae: 0.8022\n",
            "Epoch 6/10\n",
            "37/37 [==============================] - 1s 36ms/step - loss: 0.3875 - mae: 0.7350 - val_loss: 0.4760 - val_mae: 0.8022\n",
            "Epoch 7/10\n",
            "37/37 [==============================] - 1s 36ms/step - loss: 0.3873 - mae: 0.7346 - val_loss: 0.4760 - val_mae: 0.8022\n",
            "Epoch 8/10\n",
            "37/37 [==============================] - 1s 35ms/step - loss: 0.3872 - mae: 0.7344 - val_loss: 0.4760 - val_mae: 0.8022\n",
            "Epoch 9/10\n",
            "37/37 [==============================] - 1s 37ms/step - loss: 0.3875 - mae: 0.7349 - val_loss: 0.4760 - val_mae: 0.8022\n",
            "Epoch 10/10\n",
            "37/37 [==============================] - 1s 35ms/step - loss: 0.3877 - mae: 0.7349 - val_loss: 0.4760 - val_mae: 0.8022\n"
          ],
          "name": "stdout"
        }
      ]
    },
    {
      "cell_type": "code",
      "metadata": {
        "colab_type": "code",
        "id": "2IhkCbX1MSRr",
        "colab": {
          "base_uri": "https://localhost:8080/",
          "height": 34
        },
        "outputId": "da9602f0-0051-4273-bb75-2ac8b0b3a119"
      },
      "source": [
        "history.history.keys()"
      ],
      "execution_count": null,
      "outputs": [
        {
          "output_type": "execute_result",
          "data": {
            "text/plain": [
              "dict_keys(['loss', 'mae', 'val_loss', 'val_mae', 'lr'])"
            ]
          },
          "metadata": {
            "tags": []
          },
          "execution_count": 132
        }
      ]
    },
    {
      "cell_type": "code",
      "metadata": {
        "colab_type": "code",
        "id": "1TB3eerWMEEO",
        "colab": {
          "base_uri": "https://localhost:8080/",
          "height": 606
        },
        "outputId": "80a23114-e407-4e80-d6cf-a74833bc2554"
      },
      "source": [
        "def plot_history(histories, key='mae'):\n",
        "  plt.figure(figsize=(16,10))\n",
        "\n",
        "  for name, history in histories:\n",
        "    val = plt.plot(history.epoch, history.history['val_'+key],\n",
        "                   '--', label=name.title()+' Val')\n",
        "    plt.plot(history.epoch, history.history[key], color=val[0].get_color(),\n",
        "             label=name.title()+' Train')\n",
        "\n",
        "  plt.xlabel('Epochs')\n",
        "  plt.ylabel(key.replace('_',' ').title())\n",
        "  plt.legend()\n",
        "\n",
        "  plt.xlim([0,max(history.epoch)])\n",
        "\n",
        "\n",
        "plot_history([('baseline', history)])"
      ],
      "execution_count": null,
      "outputs": [
        {
          "output_type": "display_data",
          "data": {
            "image/png": "[encoded data removed]",
            "text/plain": [
              "<Figure size 1152x720 with 1 Axes>"
            ]
          },
          "metadata": {
            "tags": [],
            "needs_background": "light"
          }
        }
      ]
    },
    {
      "cell_type": "markdown",
      "metadata": {
        "colab_type": "text",
        "id": "jU0mYSb72DIz"
      },
      "source": [
        "<a name='2.2.3'></a>\n",
        "#### 2.2.3 Model Creation for Generated Features"
      ]
    },
    {
      "cell_type": "code",
      "metadata": {
        "id": "bfL3nU9Npu0i",
        "colab_type": "code",
        "colab": {}
      },
      "source": [
        "train_sett = windowed_dataset_train(datasett[:124, :], 44, 2, 60, 7)\n",
        "valid_sett = windowed_dataset_valid(datasett[124:178, :], 44, 2, 60, 7)"
      ],
      "execution_count": null,
      "outputs": []
    },
    {
      "cell_type": "code",
      "metadata": {
        "id": "I4HQCOrgpu3d",
        "colab_type": "code",
        "colab": {}
      },
      "source": [
        "modell = tf.keras.models.Sequential([\n",
        "    # tf.keras.layers.Conv1D(filters=8, kernel_size=5,\n",
        "    #                     strides=1, padding=\"causal\",\n",
        "    #                     activation=\"relu\",\n",
        "    #                     input_shape=[None, 2]),\n",
        "    tf.keras.layers.LSTM(7, return_sequences=True, dropout=0.5, recurrent_dropout=0.5, input_shape=[None, 5]),\n",
        "    # tf.keras.layers.Dense(31, activation=\"relu\"), # is the same as applying a TimeDistributed Layer, the only reason we use TimeDistributed is for clarity to say that it is \n",
        "    # tf.keras.layers.Dense(31),\n",
        "    \n",
        "  ])\n",
        "lr_schedule = tf.keras.callbacks.LearningRateScheduler(lambda epoch: 1e-8 * 10**(epoch / 20))\n",
        "optimizer = tf.keras.optimizers.SGD(lr=1e-8, momentum=0.9)\n",
        "modell.compile(loss=tf.keras.losses.Huber(), optimizer=optimizer, metrics=[\"mae\"])"
      ],
      "execution_count": null,
      "outputs": []
    },
    {
      "cell_type": "code",
      "metadata": {
        "id": "ufDmJ77-pu6s",
        "colab_type": "code",
        "colab": {
          "base_uri": "https://localhost:8080/",
          "height": 185
        },
        "outputId": "a34efc6f-687a-475a-daf6-b22f998b469c"
      },
      "source": [
        "modell.summary()"
      ],
      "execution_count": null,
      "outputs": [
        {
          "output_type": "stream",
          "text": [
            "Model: \"sequential_1\"\n",
            "_________________________________________________________________\n",
            "Layer (type)                 Output Shape              Param #   \n",
            "=================================================================\n",
            "lstm_1 (LSTM)                (None, None, 7)           364       \n",
            "=================================================================\n",
            "Total params: 364\n",
            "Trainable params: 364\n",
            "Non-trainable params: 0\n",
            "_________________________________________________________________\n"
          ],
          "name": "stdout"
        }
      ]
    },
    {
      "cell_type": "markdown",
      "metadata": {
        "id": "m7diwIWe75r1",
        "colab_type": "text"
      },
      "source": [
        "#### Loading Model from Checkpoints"
      ]
    },
    {
      "cell_type": "code",
      "metadata": {
        "id": "RD4Tpam9UP_H",
        "colab_type": "code",
        "colab": {
          "base_uri": "https://localhost:8080/",
          "height": 34
        },
        "outputId": "50c7973a-59a0-469b-9934-0d3008fe3fa4"
      },
      "source": [
        "# Comment 2 lines below if you want to retrain the model\n",
        "checkpoint_path = \"/content/IsaziChallenge/models/checkpoint_path/cp.ckpt\"\n",
        "modell.load_weights(checkpoint_path) # Loads model weights from checkpoints"
      ],
      "execution_count": null,
      "outputs": [
        {
          "output_type": "execute_result",
          "data": {
            "text/plain": [
              "<tensorflow.python.training.tracking.util.CheckpointLoadStatus at 0x7efdfb32e208>"
            ]
          },
          "metadata": {
            "tags": []
          },
          "execution_count": 134
        }
      ]
    },
    {
      "cell_type": "code",
      "metadata": {
        "id": "P6V9aBN27L_o",
        "colab_type": "code",
        "colab": {}
      },
      "source": [
        "# Code used to save checkpoints, uncomment if training model\n",
        "# checkpoint_path = \"/content/IsaziChallenge/models/checkpoint_path/cp.ckpt\"\n",
        "# checkpoint_dir = os.path.dirname(checkpoint_path)\n",
        "\n",
        "# # Create a callback that saves the model's weights\n",
        "# cp_callback = tf.keras.callbacks.ModelCheckpoint(filepath=checkpoint_path,\n",
        "#                                                  save_weights_only=True,\n",
        "#                                                  verbose=1)"
      ],
      "execution_count": null,
      "outputs": []
    },
    {
      "cell_type": "code",
      "metadata": {
        "id": "rEc0eXmFpu9P",
        "colab_type": "code",
        "colab": {
          "base_uri": "https://localhost:8080/",
          "height": 689
        },
        "outputId": "611bc228-0855-4979-c03b-cbffeab79358"
      },
      "source": [
        "# Uncomment to keep training model. Model is loaded in the cells below\n",
        "# historyy = modell.fit(train_sett, epochs=10, validation_data=valid_sett, callbacks=[lr_schedule, cp_callback])"
      ],
      "execution_count": null,
      "outputs": [
        {
          "output_type": "stream",
          "text": [
            "Epoch 1/10\n",
            "     37/Unknown - 1s 25ms/step - loss: 0.3950 - mae: 0.7471\n",
            "Epoch 00001: saving model to /content/IsaziChallenge/models/checkpoint_path/cp.ckpt\n",
            "37/37 [==============================] - 1s 30ms/step - loss: 0.3950 - mae: 0.7471 - val_loss: 0.4891 - val_mae: 0.8252\n",
            "Epoch 2/10\n",
            "36/37 [============================>.] - ETA: 0s - loss: 0.3937 - mae: 0.7459\n",
            "Epoch 00002: saving model to /content/IsaziChallenge/models/checkpoint_path/cp.ckpt\n",
            "37/37 [==============================] - 1s 29ms/step - loss: 0.3937 - mae: 0.7461 - val_loss: 0.4891 - val_mae: 0.8252\n",
            "Epoch 3/10\n",
            "36/37 [============================>.] - ETA: 0s - loss: 0.3941 - mae: 0.7465\n",
            "Epoch 00003: saving model to /content/IsaziChallenge/models/checkpoint_path/cp.ckpt\n",
            "37/37 [==============================] - 1s 31ms/step - loss: 0.3949 - mae: 0.7473 - val_loss: 0.4891 - val_mae: 0.8252\n",
            "Epoch 4/10\n",
            "36/37 [============================>.] - ETA: 0s - loss: 0.3928 - mae: 0.7451\n",
            "Epoch 00004: saving model to /content/IsaziChallenge/models/checkpoint_path/cp.ckpt\n",
            "37/37 [==============================] - 1s 29ms/step - loss: 0.3945 - mae: 0.7468 - val_loss: 0.4891 - val_mae: 0.8252\n",
            "Epoch 5/10\n",
            "36/37 [============================>.] - ETA: 0s - loss: 0.3946 - mae: 0.7471\n",
            "Epoch 00005: saving model to /content/IsaziChallenge/models/checkpoint_path/cp.ckpt\n",
            "37/37 [==============================] - 1s 31ms/step - loss: 0.3944 - mae: 0.7469 - val_loss: 0.4891 - val_mae: 0.8252\n",
            "Epoch 6/10\n",
            "36/37 [============================>.] - ETA: 0s - loss: 0.3947 - mae: 0.7469\n",
            "Epoch 00006: saving model to /content/IsaziChallenge/models/checkpoint_path/cp.ckpt\n",
            "37/37 [==============================] - 1s 29ms/step - loss: 0.3946 - mae: 0.7470 - val_loss: 0.4891 - val_mae: 0.8252\n",
            "Epoch 7/10\n",
            "36/37 [============================>.] - ETA: 0s - loss: 0.3956 - mae: 0.7482\n",
            "Epoch 00007: saving model to /content/IsaziChallenge/models/checkpoint_path/cp.ckpt\n",
            "37/37 [==============================] - 1s 30ms/step - loss: 0.3954 - mae: 0.7476 - val_loss: 0.4891 - val_mae: 0.8252\n",
            "Epoch 8/10\n",
            "35/37 [===========================>..] - ETA: 0s - loss: 0.3949 - mae: 0.7471\n",
            "Epoch 00008: saving model to /content/IsaziChallenge/models/checkpoint_path/cp.ckpt\n",
            "37/37 [==============================] - 1s 29ms/step - loss: 0.3945 - mae: 0.7466 - val_loss: 0.4891 - val_mae: 0.8252\n",
            "Epoch 9/10\n",
            "36/37 [============================>.] - ETA: 0s - loss: 0.3954 - mae: 0.7474\n",
            "Epoch 00009: saving model to /content/IsaziChallenge/models/checkpoint_path/cp.ckpt\n",
            "37/37 [==============================] - 1s 29ms/step - loss: 0.3947 - mae: 0.7469 - val_loss: 0.4891 - val_mae: 0.8252\n",
            "Epoch 10/10\n",
            "36/37 [============================>.] - ETA: 0s - loss: 0.3939 - mae: 0.7464\n",
            "Epoch 00010: saving model to /content/IsaziChallenge/models/checkpoint_path/cp.ckpt\n",
            "37/37 [==============================] - 1s 29ms/step - loss: 0.3946 - mae: 0.7469 - val_loss: 0.4891 - val_mae: 0.8252\n"
          ],
          "name": "stdout"
        }
      ]
    },
    {
      "cell_type": "code",
      "metadata": {
        "id": "J-kiacU6pvAO",
        "colab_type": "code",
        "colab": {
          "base_uri": "https://localhost:8080/",
          "height": 606
        },
        "outputId": "3a23409d-da56-4803-ccb6-e02bc400e9c6"
      },
      "source": [
        "# def plot_history(histories, key='mae'):\n",
        "#   plt.figure(figsize=(16,10))\n",
        "\n",
        "#   for name, history in histories:\n",
        "#     val = plt.plot(history.epoch, history.history['val_'+key],\n",
        "#                    '--', label=name.title()+' Val')\n",
        "#     plt.plot(history.epoch, history.history[key], color=val[0].get_color(),\n",
        "#              label=name.title()+' Train')\n",
        "\n",
        "#   plt.xlabel('Epochs')\n",
        "#   plt.ylabel(key.replace('_',' ').title())\n",
        "#   plt.legend()\n",
        "\n",
        "#   plt.xlim([0,max(history.epoch)])\n",
        "\n",
        "\n",
        "# plot_history([('baseline', historyy)])"
      ],
      "execution_count": null,
      "outputs": [
        {
          "output_type": "display_data",
          "data": {
            "image/png": "[encoded data removed]",
            "text/plain": [
              "<Figure size 1152x720 with 1 Axes>"
            ]
          },
          "metadata": {
            "tags": [],
            "needs_background": "light"
          }
        }
      ]
    },
    {
      "cell_type": "markdown",
      "metadata": {
        "id": "2E6RWBYPEu2o",
        "colab_type": "text"
      },
      "source": [
        "<a name='2.2.4'></a>\n",
        "#### 2.2.4 Running Predicitions "
      ]
    },
    {
      "cell_type": "code",
      "metadata": {
        "id": "CltutF0SKmmy",
        "colab_type": "code",
        "colab": {
          "base_uri": "https://localhost:8080/",
          "height": 134
        },
        "outputId": "e25fd1ca-10b0-4bba-ddba-87156a9c31b3"
      },
      "source": [
        "data.dtypes"
      ],
      "execution_count": null,
      "outputs": [
        {
          "output_type": "execute_result",
          "data": {
            "text/plain": [
              "InvoiceID            category\n",
              "ProductCode          category\n",
              "Description          category\n",
              "Volume                  int64\n",
              "Date           datetime64[ns]\n",
              "UnitPrice             float64\n",
              "dtype: object"
            ]
          },
          "metadata": {
            "tags": []
          },
          "execution_count": 143
        }
      ]
    },
    {
      "cell_type": "code",
      "metadata": {
        "id": "nX9bQ_aILtd0",
        "colab_type": "code",
        "colab": {
          "base_uri": "https://localhost:8080/",
          "height": 34
        },
        "outputId": "956a3e87-fac0-4faf-925c-06dbd8d674a7"
      },
      "source": [
        "print(len(data))"
      ],
      "execution_count": null,
      "outputs": [
        {
          "output_type": "stream",
          "text": [
            "203422\n"
          ],
          "name": "stdout"
        }
      ]
    },
    {
      "cell_type": "code",
      "metadata": {
        "id": "cl4JyK6X9p5n",
        "colab_type": "code",
        "colab": {}
      },
      "source": [
        "def generate_predict_ft(ft): # Takes into consideration discounts and returns\n",
        "  \"\"\"\n",
        "    Groups and averages dataframe by day. \n",
        "    Standardizes numerical feature values of data\n",
        "  \n",
        "    Args:\n",
        "      ft (dataframe): numpy array with data values.\n",
        "\n",
        "    Returns:\n",
        "      ft_npy (numpy array): standardized and normalized numerical variables\n",
        "  \"\"\"\n",
        "  ft = drop_col(ft, col_list=['InvoiceID', 'ProductCode'])\n",
        "  ft['IsReturns'] = ft['Volume'].apply(lambda x: 1 if x<0 else 0)\n",
        "  ft['IsDiscount'] = ft['UnitPrice'].apply(lambda x: 1 if x==0 else 0)\n",
        "  ft['IsWeekDay'] = ft.apply(lambda x: x[\"Date\"].weekday(),axis=1)\n",
        "  ft['IsWeekDay'] = (ft['IsWeekDay'] < 5).astype(int)\n",
        "  ft = ft.groupby(pd.Grouper(key='Date',freq='D')).agg(\n",
        "      VolumeMean = pd.NamedAgg(column='Volume', aggfunc=np.mean),\n",
        "      UnitPriceMean = pd.NamedAgg(column='UnitPrice', aggfunc=np.mean),\n",
        "      TotReturns = pd.NamedAgg(column='IsReturns', aggfunc=np.sum),\n",
        "      TotDiscount = pd.NamedAgg(column='IsDiscount', aggfunc=np.sum),\n",
        "      TotWeekDays = pd.NamedAgg(column='IsWeekDay', aggfunc=np.sum)\n",
        "  )\n",
        "  ft = ft.fillna(0)\n",
        "  ft = ft.values\n",
        "\n",
        "  ft_npy = (ft-data_mean)/data_std \n",
        "\n",
        "  return ft_npy"
      ],
      "execution_count": null,
      "outputs": []
    },
    {
      "cell_type": "code",
      "metadata": {
        "id": "W1zd1JOXpvDG",
        "colab_type": "code",
        "colab": {}
      },
      "source": [
        "def predict_transform(df_to_predict):\n",
        "  # Might have to create a read csv to pass from command line\n",
        "  convert_data_types(df_to_predict)\n",
        "  fts = df_to_predict.copy()\n",
        "  fts = drop_col(fts, col_list=['Description'])\n",
        "  data_set = generate_predict_ft(fts)\n",
        "  predict_set = windowed_dataset_valid(data_set, 44, 2, 60, 7)\n",
        "  return predict_set"
      ],
      "execution_count": null,
      "outputs": []
    },
    {
      "cell_type": "code",
      "metadata": {
        "id": "rlWhxZOBHduG",
        "colab_type": "code",
        "colab": {
          "base_uri": "https://localhost:8080/",
          "height": 420
        },
        "outputId": "345195ff-8ea6-4d65-ca26-9b2a9dee1790"
      },
      "source": [
        "prediction_set = predict_transform(data.iloc[:-60000, :]) # Create an argument parser to parse prediction dataframe file through command line\n",
        "npyz = (modell.predict(prediction_set) * std_data) + mean_data"
      ],
      "execution_count": null,
      "outputs": [
        {
          "output_type": "stream",
          "text": [
            "/usr/local/lib/python3.6/dist-packages/ipykernel_launcher.py:11: SettingWithCopyWarning: \n",
            "A value is trying to be set on a copy of a slice from a DataFrame.\n",
            "Try using .loc[row_indexer,col_indexer] = value instead\n",
            "\n",
            "See the caveats in the documentation: https://pandas.pydata.org/pandas-docs/stable/user_guide/indexing.html#returning-a-view-versus-a-copy\n",
            "  # This is added back by InteractiveShellApp.init_path()\n",
            "/usr/local/lib/python3.6/dist-packages/ipykernel_launcher.py:12: SettingWithCopyWarning: \n",
            "A value is trying to be set on a copy of a slice from a DataFrame.\n",
            "Try using .loc[row_indexer,col_indexer] = value instead\n",
            "\n",
            "See the caveats in the documentation: https://pandas.pydata.org/pandas-docs/stable/user_guide/indexing.html#returning-a-view-versus-a-copy\n",
            "  if sys.path[0] == '':\n",
            "/usr/local/lib/python3.6/dist-packages/ipykernel_launcher.py:13: SettingWithCopyWarning: \n",
            "A value is trying to be set on a copy of a slice from a DataFrame.\n",
            "Try using .loc[row_indexer,col_indexer] = value instead\n",
            "\n",
            "See the caveats in the documentation: https://pandas.pydata.org/pandas-docs/stable/user_guide/indexing.html#returning-a-view-versus-a-copy\n",
            "  del sys.path[0]\n",
            "/usr/local/lib/python3.6/dist-packages/ipykernel_launcher.py:14: SettingWithCopyWarning: \n",
            "A value is trying to be set on a copy of a slice from a DataFrame.\n",
            "Try using .loc[row_indexer,col_indexer] = value instead\n",
            "\n",
            "See the caveats in the documentation: https://pandas.pydata.org/pandas-docs/stable/user_guide/indexing.html#returning-a-view-versus-a-copy\n",
            "  \n"
          ],
          "name": "stderr"
        }
      ]
    },
    {
      "cell_type": "markdown",
      "metadata": {
        "id": "9wI_kbx-lO0Y",
        "colab_type": "text"
      },
      "source": [
        "#### The following below shows predictions 7 days ahead, if we would like to predict 31 days ahead, we just have to change our window parameters and the las layer of the model to 31"
      ]
    },
    {
      "cell_type": "code",
      "metadata": {
        "id": "35HQ1HCZK29j",
        "colab_type": "code",
        "colab": {
          "base_uri": "https://localhost:8080/",
          "height": 67
        },
        "outputId": "c24d3918-81ed-4c07-e9e5-2c75bdc14cf7"
      },
      "source": [
        "print(npyz[0, 0, :])\n",
        "print(npyz[0, 1, :])\n",
        "print(npyz[0, 2, :])"
      ],
      "execution_count": null,
      "outputs": [
        {
          "output_type": "stream",
          "text": [
            "[22.040794 22.30324  23.162722 22.696892 22.49132  22.508926 23.424372]\n",
            "[24.176308 17.695864 27.374987 23.159117 20.47332  24.464855 26.995945]\n",
            "[22.31354  19.729282 25.651539 24.928905 22.528397 23.286795 24.758812]\n"
          ],
          "name": "stdout"
        }
      ]
    },
    {
      "cell_type": "markdown",
      "metadata": {
        "id": "A6UEk-vTN0qW",
        "colab_type": "text"
      },
      "source": [
        "<a name='2.3'></a>\n",
        "### 2.3 Close to Perfect Model\n",
        "- Thus far I have kept the model simple by building the first **Multivariate Multi-Step**  model with just the **Volume** and **UnitPrice** features\n",
        "- The **second** model that was built was a result of generating more features such as **discounts, returns(negative volumes), weekends/weekdays**. We could also include exponential moving averages as features to improve performance\n",
        "- The **IDEAL** way to build a model for the best performance is to do the following:\n",
        "  1. Firstly there is a **massive correlation** for the **\"Description\"** feature, so we need to train an encoder to learn embeddings for the Description feature. I have written some sample code for this, however due to time constraints I am just explaining my thought process rather than building this complex model.\n",
        "  2. Once we have **learnt the embeddings for the Description feature**, we can then train a **second model**, using the first model to generate embeddings for the Description feature.\n",
        "  3. The second model will be the same as the model that I have built for the generated features, however this time I will include the **\"ProductID\"** and **\"InvoiceID\"** as embedding features. \n",
        "\n",
        "**NB: I have written sample code to show that I am capable of building this complex model, however the first 2 models are fully functional**"
      ]
    },
    {
      "cell_type": "markdown",
      "metadata": {
        "colab_type": "text",
        "id": "nTPu3mSy1zyd"
      },
      "source": [
        "<a name='window'></a>\n",
        "#### Windowing for including Embeddings for Categorical Features"
      ]
    },
    {
      "cell_type": "code",
      "metadata": {
        "colab_type": "code",
        "id": "DaU3vkayxwfW",
        "colab": {}
      },
      "source": [
        "# Test Window\n",
        "def windowed_dataset(series, window_size, batch_size, shuffle_buffer, step_forecast):\n",
        "    ds = tf.data.Dataset.from_tensor_slices(({'input_x': series[:, 2:], 'input_embed': series[:, :-2].astype(int)})) \n",
        "    ds_all = ds.window(window_size + step_forecast, shift=1, drop_remainder=True)\n",
        "    ds = ds_all.flat_map(lambda w: w['input_x'].batch(window_size + step_forecast))\n",
        "                    \n",
        "    ds = ds.map(lambda w: w[:-step_forecast])     \n",
        "    ds = ds.batch(batch_size).prefetch(1) \n",
        "\n",
        "    ds2 = ds_all.flat_map(lambda w: w['input_embed'].batch(window_size + step_forecast))\n",
        "                     \n",
        "    ds2 = ds2.map(lambda w: w[:-step_forecast])      \n",
        "    ds2 = ds2.batch(batch_size).prefetch(1) \n",
        "\n",
        "    ds3 = ds_all.flat_map(lambda w: w['input_x'].batch(window_size + step_forecast))\n",
        "                     \n",
        "    ds3 = ds3.map(lambda w: tf.stack([w[i:i+step_forecast, 0]  for i in range(1, window_size+1)], axis=0))     \n",
        "    ds3 = ds3.batch(batch_size).prefetch(1) \n",
        "\n",
        "    # Both Methods Work\n",
        "    ds_final = tf.data.Dataset.zip(({'input_main': ds, 'input_embed': ds2}, ds3)) \n",
        "    # ds_final = tf.data.Dataset.zip(((ds, ds2), ds3))\n",
        "\n",
        "    return ds_final # iter(ds_final)\n",
        "\n",
        "    # return ds, ds2, ds3"
      ],
      "execution_count": null,
      "outputs": []
    },
    {
      "cell_type": "code",
      "metadata": {
        "colab_type": "code",
        "id": "z8lZotJmxwi0",
        "colab": {}
      },
      "source": [
        "iterator = iter(windowed_dataset(dataset, 20, 1, 1000, 5))"
      ],
      "execution_count": null,
      "outputs": []
    },
    {
      "cell_type": "code",
      "metadata": {
        "colab_type": "code",
        "id": "zuOljabFxwlr",
        "colab": {}
      },
      "source": [
        "train_set = next(iterator)"
      ],
      "execution_count": null,
      "outputs": []
    },
    {
      "cell_type": "code",
      "metadata": {
        "colab_type": "code",
        "id": "NUyhVE5hxwoq",
        "colab": {
          "base_uri": "https://localhost:8080/",
          "height": 1000
        },
        "outputId": "bbeec575-47c0-4532-9ab2-90d79f2fa636"
      },
      "source": [
        "print(train_set)"
      ],
      "execution_count": null,
      "outputs": [
        {
          "output_type": "stream",
          "text": [
            "({'input_main': <tf.Tensor: shape=(1, 20, 2), dtype=float64, numpy=\n",
            "array([[[ 1.        , -0.02575347],\n",
            "        [ 1.        , -0.03921155],\n",
            "        [ 1.        , -0.03921155],\n",
            "        [ 1.        , -0.02443406],\n",
            "        [ 1.        , -0.03191076],\n",
            "        [ 1.        , -0.02575347],\n",
            "        [ 1.        , -0.01431851],\n",
            "        [ 1.        , -0.03015154],\n",
            "        [ 1.        , -0.01695735],\n",
            "        [ 1.        , -0.02575347],\n",
            "        [ 1.        , -0.0204758 ],\n",
            "        [ 1.        , -0.0204758 ],\n",
            "        [ 1.        , -0.0204758 ],\n",
            "        [ 1.        , -0.01695735],\n",
            "        [ 1.        , -0.01695735],\n",
            "        [ 1.        , -0.0204758 ],\n",
            "        [ 1.        , -0.00552238],\n",
            "        [-0.9993293 , -0.04290592],\n",
            "        [-1.        , -0.04290592],\n",
            "        [-1.        , -0.04290592]]])>, 'input_embed': <tf.Tensor: shape=(1, 20, 2), dtype=int64, numpy=\n",
            "array([[[   0, 1270],\n",
            "        [   0,  622],\n",
            "        [   0,  621],\n",
            "        [   0, 1263],\n",
            "        [   0,  167],\n",
            "        [   0, 3048],\n",
            "        [   0,  144],\n",
            "        [   0, 1814],\n",
            "        [   0, 1530],\n",
            "        [   0, 1754],\n",
            "        [   0, 1752],\n",
            "        [   0, 1194],\n",
            "        [   0, 1193],\n",
            "        [   0, 3067],\n",
            "        [   0, 1667],\n",
            "        [   0, 1335],\n",
            "        [   0, 1719],\n",
            "        [   1, 1689],\n",
            "        [   2, 3027],\n",
            "        [   3,  797]]])>}, <tf.Tensor: shape=(1, 20, 5), dtype=float64, numpy=\n",
            "array([[[ 1.       ,  1.       ,  1.       ,  1.       ,  1.       ],\n",
            "        [ 1.       ,  1.       ,  1.       ,  1.       ,  1.       ],\n",
            "        [ 1.       ,  1.       ,  1.       ,  1.       ,  1.       ],\n",
            "        [ 1.       ,  1.       ,  1.       ,  1.       ,  1.       ],\n",
            "        [ 1.       ,  1.       ,  1.       ,  1.       ,  1.       ],\n",
            "        [ 1.       ,  1.       ,  1.       ,  1.       ,  1.       ],\n",
            "        [ 1.       ,  1.       ,  1.       ,  1.       ,  1.       ],\n",
            "        [ 1.       ,  1.       ,  1.       ,  1.       ,  1.       ],\n",
            "        [ 1.       ,  1.       ,  1.       ,  1.       ,  1.       ],\n",
            "        [ 1.       ,  1.       ,  1.       ,  1.       ,  1.       ],\n",
            "        [ 1.       ,  1.       ,  1.       ,  1.       ,  1.       ],\n",
            "        [ 1.       ,  1.       ,  1.       ,  1.       ,  1.       ],\n",
            "        [ 1.       ,  1.       ,  1.       ,  1.       , -0.9993293],\n",
            "        [ 1.       ,  1.       ,  1.       , -0.9993293, -1.       ],\n",
            "        [ 1.       ,  1.       , -0.9993293, -1.       , -1.       ],\n",
            "        [ 1.       , -0.9993293, -1.       , -1.       ,  1.       ],\n",
            "        [-0.9993293, -1.       , -1.       ,  1.       ,  0.9999092],\n",
            "        [-1.       , -1.       ,  1.       ,  0.9999092, -0.9993293],\n",
            "        [-1.       ,  1.       ,  0.9999092, -0.9993293, -1.       ],\n",
            "        [ 1.       ,  0.9999092, -0.9993293, -1.       ,  1.       ]]])>)\n"
          ],
          "name": "stdout"
        }
      ]
    },
    {
      "cell_type": "markdown",
      "metadata": {
        "colab_type": "text",
        "id": "bD3dq4H6Bybz"
      },
      "source": [
        "<a name='3'></a>\n",
        "## 3. Conclusion\n",
        "- The task for the challenge was great.\n",
        "- I managed to complete the task, however I did not have enough time to finish the report generating process\n",
        "- Thank you for considering to offer me a position at Isazi Consulting.\n",
        "- I look forward to working with Isazi, if I am successful\n",
        "<br>\n",
        "<br>\n",
        "- Please feel free to contact me via:\n",
        "  - email: yashveerm8@yahoo.com\n",
        "  - phone: 072 217 9781"
      ]
    },
    {
      "cell_type": "markdown",
      "metadata": {
        "id": "UTnXOIlYD8g6",
        "colab_type": "text"
      },
      "source": [
        "<a name='4'></a>\n",
        "## 4. References"
      ]
    },
    {
      "cell_type": "markdown",
      "metadata": {
        "id": "VEbs6XuoF8hm",
        "colab_type": "text"
      },
      "source": [
        "**[1] Géron, A., 2019. Hands-On Machine Learning With Scikit-Learn, Keras And Tensorflow. 2nd ed. Sebastopol: O'Reilly Media. [Book](https://www.oreilly.com/library/view/hands-on-machine-learning/9781492032632/)**\n",
        "\n",
        "**[2] [Tensorflow Timeseries Prediction Deeplearning.AI](https://www.coursera.org/learn/tensorflow-sequences-time-series-and-prediction)**\n",
        "\n",
        "**[3] [Kaggle M5 Competition Timeseries (DENOISING WAVELETS, ARIMA, MOVING AVERAGES)](https://www.kaggle.com/tarunpaparaju/m5-competition-eda-models)**"
      ]
    }
  ]
}
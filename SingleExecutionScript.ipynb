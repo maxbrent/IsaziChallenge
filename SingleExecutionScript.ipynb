{
  "nbformat": 4,
  "nbformat_minor": 0,
  "metadata": {
    "colab": {
      "name": "SingleExecutionScript.ipynb",
      "provenance": []
    },
    "kernelspec": {
      "name": "python3",
      "display_name": "Python 3"
    }
  },
  "cells": [
    {
      "cell_type": "markdown",
      "metadata": {
        "id": "5V2YmSGmRHHK",
        "colab_type": "text"
      },
      "source": [
        "# Making Predictions\n",
        "- This script is a bash execution script\n",
        "- To make a **prediction** just upload your csv file to the **prediction** folder in the github repository\n",
        "- Next run the code cell below to begin the execution passing your filename:\n",
        "  \"/content/IsaziChallenge/predictions/**filename.csv**\"\n",
        "- Remember to just change the last part of the code cell below to your file name"
      ]
    },
    {
      "cell_type": "code",
      "metadata": {
        "id": "IpBk29VIP7B5",
        "colab_type": "code",
        "colab": {}
      },
      "source": [
        "%%bash\n",
        "predictions.py --filepath \"/content/IsaziChallenge/predictions/data_to_predict.csv\""
      ],
      "execution_count": null,
      "outputs": []
    }
  ]
}
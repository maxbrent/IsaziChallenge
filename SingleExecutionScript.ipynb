{
  "nbformat": 4,
  "nbformat_minor": 0,
  "metadata": {
    "colab": {
      "name": "SingleExecutionScript.ipynb",
      "provenance": []
    },
    "kernelspec": {
      "name": "python3",
      "display_name": "Python 3"
    }
  },
  "cells": [
    {
      "cell_type": "markdown",
      "metadata": {
        "id": "5V2YmSGmRHHK",
        "colab_type": "text"
      },
      "source": [
        "# Making Predictions\n",
        "- This script is a bash execution script\n",
        "- To make a **prediction** just upload your csv file to the **prediction** folder in the github repository\n",
        "- Next run the run the code cells below to begin the execution passing your filename:\n",
        "  \"/content/IsaziChallenge/predictions/**filename.csv**\"\n",
        "- Remember to just change the last part of the 3rd code cell below to your file name"
      ]
    },
    {
      "cell_type": "code",
      "metadata": {
        "id": "ZOswopqZWLt3",
        "colab_type": "code",
        "colab": {
          "base_uri": "https://localhost:8080/",
          "height": 34
        },
        "outputId": "860dfa44-0353-4295-ff62-178da482f4c7"
      },
      "source": [
        "!git clone https://github.com/maxbrent/IsaziChallenge.git"
      ],
      "execution_count": 18,
      "outputs": [
        {
          "output_type": "stream",
          "text": [
            "fatal: destination path 'IsaziChallenge' already exists and is not an empty directory.\n"
          ],
          "name": "stdout"
        }
      ]
    },
    {
      "cell_type": "code",
      "metadata": {
        "id": "B2LzkxZjWPu7",
        "colab_type": "code",
        "colab": {
          "base_uri": "https://localhost:8080/",
          "height": 101
        },
        "outputId": "9bea2c64-c4ef-4976-b6f4-cc300e4faa10"
      },
      "source": [
        "!ls /content/IsaziChallenge/"
      ],
      "execution_count": 19,
      "outputs": [
        {
          "output_type": "stream",
          "text": [
            " data\t\t\t\t       predictions.py\n",
            "'DS - case study 1 - Sales task.pdf'   README.md\n",
            " IsaziAIChallenge_Case_Study_1.ipynb   reports\n",
            " models\t\t\t\t       SingleExecutionScript.ipynb\n",
            " predictions\n"
          ],
          "name": "stdout"
        }
      ]
    },
    {
      "cell_type": "code",
      "metadata": {
        "id": "IpBk29VIP7B5",
        "colab_type": "code",
        "colab": {
          "base_uri": "https://localhost:8080/",
          "height": 34
        },
        "outputId": "c116b48b-5bc2-4f5b-e0f1-f45a37df599a"
      },
      "source": [
        "%%bash\n",
        "python3 /content/IsaziChallenge/predictions.py --filepath \"/content/IsaziChallenge/predictions/data_to_predict.csv\""
      ],
      "execution_count": 20,
      "outputs": [
        {
          "output_type": "stream",
          "text": [
            "2020-08-16 17:58:05.575607: I tensorflow/stream_executor/platform/default/dso_loader.cc:48] Successfully opened dynamic library libcudart.so.10.1\n"
          ],
          "name": "stderr"
        }
      ]
    }
  ]
}